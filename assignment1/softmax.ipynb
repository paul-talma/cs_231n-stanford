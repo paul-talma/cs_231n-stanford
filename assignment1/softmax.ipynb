{
 "cells": [
  {
   "cell_type": "markdown",
   "id": "e2c3cfa1",
   "metadata": {
    "tags": [
     "pdf-title"
    ]
   },
   "source": [
    "# Softmax exercise\n",
    "\n",
    "*Complete and hand in this completed worksheet (including its outputs and any supporting code outside of the worksheet) with your assignment submission. For more details see the [assignments page](http://vision.stanford.edu/teaching/cs231n/assignments.html) on the course website.*\n",
    "\n",
    "This exercise is analogous to the SVM exercise. You will:\n",
    "\n",
    "- implement a fully-vectorized **loss function** for the Softmax classifier\n",
    "- implement the fully-vectorized expression for its **analytic gradient**\n",
    "- **check your implementation** with numerical gradient\n",
    "- use a validation set to **tune the learning rate and regularization** strength\n",
    "- **optimize** the loss function with **SGD**\n",
    "- **visualize** the final learned weights\n"
   ]
  },
  {
   "cell_type": "code",
   "execution_count": 2,
   "id": "c55a72bf",
   "metadata": {
    "tags": [
     "pdf-ignore"
    ]
   },
   "outputs": [],
   "source": [
    "import random\n",
    "import numpy as np\n",
    "from cs231n.data_utils import load_CIFAR10\n",
    "import matplotlib.pyplot as plt\n",
    "\n",
    "%matplotlib inline\n",
    "plt.rcParams['figure.figsize'] = (10.0, 8.0) # set default size of plots\n",
    "plt.rcParams['image.interpolation'] = 'nearest'\n",
    "plt.rcParams['image.cmap'] = 'gray'\n",
    "\n",
    "# for auto-reloading extenrnal modules\n",
    "# see http://stackoverflow.com/questions/1907993/autoreload-of-modules-in-ipython\n",
    "%load_ext autoreload\n",
    "%autoreload 2"
   ]
  },
  {
   "cell_type": "code",
   "execution_count": 3,
   "id": "b99594ec",
   "metadata": {
    "tags": [
     "pdf-ignore"
    ]
   },
   "outputs": [
    {
     "name": "stdout",
     "output_type": "stream",
     "text": [
      "Train data shape:  (49000, 3073)\n",
      "Train labels shape:  (49000,)\n",
      "Validation data shape:  (1000, 3073)\n",
      "Validation labels shape:  (1000,)\n",
      "Test data shape:  (1000, 3073)\n",
      "Test labels shape:  (1000,)\n",
      "dev data shape:  (500, 3073)\n",
      "dev labels shape:  (500,)\n"
     ]
    }
   ],
   "source": [
    "def get_CIFAR10_data(num_training=49000, num_validation=1000, num_test=1000, num_dev=500):\n",
    "    \"\"\"\n",
    "    Load the CIFAR-10 dataset from disk and perform preprocessing to prepare\n",
    "    it for the linear classifier. These are the same steps as we used for the\n",
    "    SVM, but condensed to a single function.  \n",
    "    \"\"\"\n",
    "    # Load the raw CIFAR-10 data\n",
    "    cifar10_dir = 'cs231n/datasets/cifar-10-batches-py'\n",
    "    \n",
    "    # Cleaning up variables to prevent loading data multiple times (which may cause memory issue)\n",
    "    try:\n",
    "       del X_train, y_train\n",
    "       del X_test, y_test\n",
    "       print('Clear previously loaded data.')\n",
    "    except:\n",
    "       pass\n",
    "\n",
    "    X_train, y_train, X_test, y_test = load_CIFAR10(cifar10_dir)\n",
    "    \n",
    "    # subsample the data\n",
    "    mask = list(range(num_training, num_training + num_validation))\n",
    "    X_val = X_train[mask]\n",
    "    y_val = y_train[mask]\n",
    "    mask = list(range(num_training))\n",
    "    X_train = X_train[mask]\n",
    "    y_train = y_train[mask]\n",
    "    mask = list(range(num_test))\n",
    "    X_test = X_test[mask]\n",
    "    y_test = y_test[mask]\n",
    "    mask = np.random.choice(num_training, num_dev, replace=False)\n",
    "    X_dev = X_train[mask]\n",
    "    y_dev = y_train[mask]\n",
    "    \n",
    "    # Preprocessing: reshape the image data into rows\n",
    "    X_train = np.reshape(X_train, (X_train.shape[0], -1))\n",
    "    X_val = np.reshape(X_val, (X_val.shape[0], -1))\n",
    "    X_test = np.reshape(X_test, (X_test.shape[0], -1))\n",
    "    X_dev = np.reshape(X_dev, (X_dev.shape[0], -1))\n",
    "    \n",
    "    # Normalize the data: subtract the mean image\n",
    "    mean_image = np.mean(X_train, axis = 0)\n",
    "    X_train -= mean_image\n",
    "    X_val -= mean_image\n",
    "    X_test -= mean_image\n",
    "    X_dev -= mean_image\n",
    "    \n",
    "    # add bias dimension and transform into columns\n",
    "    X_train = np.hstack([X_train, np.ones((X_train.shape[0], 1))])\n",
    "    X_val = np.hstack([X_val, np.ones((X_val.shape[0], 1))])\n",
    "    X_test = np.hstack([X_test, np.ones((X_test.shape[0], 1))])\n",
    "    X_dev = np.hstack([X_dev, np.ones((X_dev.shape[0], 1))])\n",
    "    \n",
    "    return X_train, y_train, X_val, y_val, X_test, y_test, X_dev, y_dev\n",
    "\n",
    "\n",
    "# Invoke the above function to get our data.\n",
    "X_train, y_train, X_val, y_val, X_test, y_test, X_dev, y_dev = get_CIFAR10_data()\n",
    "print('Train data shape: ', X_train.shape)\n",
    "print('Train labels shape: ', y_train.shape)\n",
    "print('Validation data shape: ', X_val.shape)\n",
    "print('Validation labels shape: ', y_val.shape)\n",
    "print('Test data shape: ', X_test.shape)\n",
    "print('Test labels shape: ', y_test.shape)\n",
    "print('dev data shape: ', X_dev.shape)\n",
    "print('dev labels shape: ', y_dev.shape)"
   ]
  },
  {
   "cell_type": "markdown",
   "id": "2713b7f4",
   "metadata": {},
   "source": [
    "## Softmax Classifier\n",
    "\n",
    "Your code for this section will all be written inside `cs231n/classifiers/softmax.py`.\n"
   ]
  },
  {
   "cell_type": "code",
   "execution_count": 197,
   "id": "6168f67e",
   "metadata": {},
   "outputs": [
    {
     "name": "stdout",
     "output_type": "stream",
     "text": [
      "loss: 2.370435\n",
      "sanity check: 2.302585\n"
     ]
    }
   ],
   "source": [
    "# First implement the naive softmax loss function with nested loops.\n",
    "# Open the file cs231n/classifiers/softmax.py and implement the\n",
    "# softmax_loss_naive function.\n",
    "from cs231n.classifiers.softmax import softmax_loss_naive\n",
    "import time\n",
    "\n",
    "# Generate a random softmax weight matrix and use it to compute the loss.\n",
    "W = np.random.randn(3073, 10) * 0.0001\n",
    "loss, grad = softmax_loss_naive(W, X_dev, y_dev, 0.0)\n",
    "\n",
    "# As a rough sanity check, our loss should be something close to -log(0.1).\n",
    "print('loss: %f' % loss)\n",
    "print('sanity check: %f' % (-np.log(0.1)))"
   ]
  },
  {
   "cell_type": "markdown",
   "id": "b35bc604",
   "metadata": {
    "tags": [
     "pdf-inline"
    ]
   },
   "source": [
    "**Inline Question 1**\n",
    "\n",
    "Why do we expect our loss to be close to -log(0.1)? Explain briefly.**\n",
    "\n",
    "$\\color{blue}{\\textit Your Answer:}$ *If the images are uniformly distributed, the probability of correctly guessing the class is 0.1* \n",
    "\n"
   ]
  },
  {
   "cell_type": "code",
   "execution_count": 199,
   "id": "b7bef674",
   "metadata": {},
   "outputs": [
    {
     "name": "stdout",
     "output_type": "stream",
     "text": [
      "++++++++++++++++++\n",
      "Without regularization\n",
      "numerical: -2.471728 analytic: -2.471728, relative error: 1.469506e-08\n",
      "numerical: 1.079514 analytic: 1.079514, relative error: 8.546648e-08\n",
      "numerical: -0.132595 analytic: -0.132595, relative error: 5.411255e-07\n",
      "numerical: 1.319124 analytic: 1.319124, relative error: 9.139072e-09\n",
      "numerical: 0.405257 analytic: 0.405257, relative error: 9.446176e-08\n",
      "numerical: 2.662072 analytic: 2.662072, relative error: 3.576542e-08\n",
      "numerical: -0.140076 analytic: -0.140076, relative error: 1.886619e-07\n",
      "numerical: -0.834890 analytic: -0.834890, relative error: 5.141887e-09\n",
      "numerical: 1.777838 analytic: 1.777838, relative error: 1.148982e-08\n",
      "numerical: -0.301617 analytic: -0.301617, relative error: 3.074890e-07\n",
      "+++++++++++++++++\n",
      "With regularization\n",
      "numerical: -0.166556 analytic: -0.166556, relative error: 1.087818e-07\n",
      "numerical: 2.082876 analytic: 2.082876, relative error: 2.824969e-08\n",
      "numerical: -0.974675 analytic: -0.974675, relative error: 2.737903e-08\n",
      "numerical: -2.245492 analytic: -2.245492, relative error: 1.764740e-08\n",
      "numerical: 2.236210 analytic: 2.236210, relative error: 2.206693e-08\n",
      "numerical: -1.243819 analytic: -1.243819, relative error: 9.823225e-10\n",
      "numerical: -3.288314 analytic: -3.288314, relative error: 5.662788e-09\n",
      "numerical: 0.025412 analytic: 0.025412, relative error: 6.093136e-07\n",
      "numerical: -2.075574 analytic: -2.075574, relative error: 2.462259e-08\n",
      "numerical: -1.605874 analytic: -1.605874, relative error: 3.460186e-09\n"
     ]
    }
   ],
   "source": [
    "# Complete the implementation of softmax_loss_naive and implement a (naive)\n",
    "# version of the gradient that uses nested loops.\n",
    "loss, grad = softmax_loss_naive(W, X_dev, y_dev, 0.0)\n",
    "\n",
    "# As we did for the SVM, use numeric gradient checking as a debugging tool.\n",
    "# The numeric gradient should be close to the analytic gradient.\n",
    "from cs231n.gradient_check import grad_check_sparse\n",
    "print(\"++++++++++++++++++\")\n",
    "print(\"Without regularization\")\n",
    "f = lambda w: softmax_loss_naive(w, X_dev, y_dev, 0.0)[0]\n",
    "grad_numerical = grad_check_sparse(f, W, grad, 10)\n",
    "\n",
    "# similar to SVM case, do another gradient check with regularization\n",
    "print(\"+++++++++++++++++\")\n",
    "print(\"With regularization\")\n",
    "loss, grad = softmax_loss_naive(W, X_dev, y_dev, 5e1)\n",
    "f = lambda w: softmax_loss_naive(w, X_dev, y_dev, 5e1)[0]\n",
    "grad_numerical = grad_check_sparse(f, W, grad, 10)"
   ]
  },
  {
   "cell_type": "code",
   "execution_count": 296,
   "id": "3994f8a3",
   "metadata": {},
   "outputs": [
    {
     "name": "stdout",
     "output_type": "stream",
     "text": [
      "naive loss: 2.370435e+00 computed in 0.026875s\n",
      "vectorized loss: 2.370435e+00 computed in 0.001816s\n",
      "Loss difference: 0.000000\n",
      "Gradient difference: 0.000000\n"
     ]
    }
   ],
   "source": [
    "# Now that we have a naive implementation of the softmax loss function and its gradient,\n",
    "# implement a vectorized version in softmax_loss_vectorized.\n",
    "# The two versions should compute the same results, but the vectorized version should be\n",
    "# much faster.\n",
    "tic = time.time()\n",
    "loss_naive, grad_naive = softmax_loss_naive(W, X_dev, y_dev, 0.000005)\n",
    "toc = time.time()\n",
    "print('naive loss: %e computed in %fs' % (loss_naive, toc - tic))\n",
    "\n",
    "from cs231n.classifiers.softmax import softmax_loss_vectorized\n",
    "tic = time.time()\n",
    "loss_vectorized, grad_vectorized = softmax_loss_vectorized(W, X_dev, y_dev, 0.000005)\n",
    "toc = time.time()\n",
    "print('vectorized loss: %e computed in %fs' % (loss_vectorized, toc - tic))\n",
    "\n",
    "# As we did for the SVM, we use the Frobenius norm to compare the two versions\n",
    "# of the gradient.\n",
    "grad_difference = np.linalg.norm(grad_naive - grad_vectorized, ord='fro')\n",
    "print('Loss difference: %f' % np.abs(loss_naive - loss_vectorized))\n",
    "print('Gradient difference: %f' % grad_difference)"
   ]
  },
  {
   "cell_type": "code",
   "execution_count": 297,
   "id": "bd171311",
   "metadata": {
    "tags": [
     "code"
    ],
    "test": "tuning"
   },
   "outputs": [
    {
     "name": "stdout",
     "output_type": "stream",
     "text": [
      "lr 1.000000e-09 reg 2.000000e+04 train accuracy: 0.125020 val accuracy: 0.153000\n",
      "lr 1.000000e-09 reg 2.259662e+04 train accuracy: 0.102327 val accuracy: 0.100000\n",
      "lr 1.000000e-09 reg 2.553036e+04 train accuracy: 0.106245 val accuracy: 0.087000\n",
      "lr 1.000000e-09 reg 2.884499e+04 train accuracy: 0.091714 val accuracy: 0.087000\n",
      "lr 1.000000e-09 reg 3.258996e+04 train accuracy: 0.125571 val accuracy: 0.153000\n",
      "lr 1.000000e-09 reg 3.682115e+04 train accuracy: 0.123694 val accuracy: 0.127000\n",
      "lr 1.000000e-09 reg 4.160168e+04 train accuracy: 0.115347 val accuracy: 0.121000\n",
      "lr 1.000000e-09 reg 4.700286e+04 train accuracy: 0.083816 val accuracy: 0.083000\n",
      "lr 1.000000e-09 reg 5.310529e+04 train accuracy: 0.089796 val accuracy: 0.089000\n",
      "lr 1.000000e-09 reg 6.000000e+04 train accuracy: 0.118306 val accuracy: 0.104000\n",
      "lr 1.668101e-09 reg 2.000000e+04 train accuracy: 0.121245 val accuracy: 0.099000\n",
      "lr 1.668101e-09 reg 2.259662e+04 train accuracy: 0.114673 val accuracy: 0.130000\n",
      "lr 1.668101e-09 reg 2.553036e+04 train accuracy: 0.130000 val accuracy: 0.128000\n",
      "lr 1.668101e-09 reg 2.884499e+04 train accuracy: 0.104551 val accuracy: 0.105000\n",
      "lr 1.668101e-09 reg 3.258996e+04 train accuracy: 0.093939 val accuracy: 0.095000\n",
      "lr 1.668101e-09 reg 3.682115e+04 train accuracy: 0.116143 val accuracy: 0.128000\n",
      "lr 1.668101e-09 reg 4.160168e+04 train accuracy: 0.116653 val accuracy: 0.104000\n",
      "lr 1.668101e-09 reg 4.700286e+04 train accuracy: 0.132000 val accuracy: 0.145000\n",
      "lr 1.668101e-09 reg 5.310529e+04 train accuracy: 0.115449 val accuracy: 0.117000\n",
      "lr 1.668101e-09 reg 6.000000e+04 train accuracy: 0.111612 val accuracy: 0.122000\n",
      "lr 2.782559e-09 reg 2.000000e+04 train accuracy: 0.110857 val accuracy: 0.109000\n",
      "lr 2.782559e-09 reg 2.259662e+04 train accuracy: 0.112490 val accuracy: 0.109000\n",
      "lr 2.782559e-09 reg 2.553036e+04 train accuracy: 0.124898 val accuracy: 0.117000\n",
      "lr 2.782559e-09 reg 2.884499e+04 train accuracy: 0.139551 val accuracy: 0.154000\n",
      "lr 2.782559e-09 reg 3.258996e+04 train accuracy: 0.136755 val accuracy: 0.133000\n",
      "lr 2.782559e-09 reg 3.682115e+04 train accuracy: 0.135245 val accuracy: 0.141000\n",
      "lr 2.782559e-09 reg 4.160168e+04 train accuracy: 0.125327 val accuracy: 0.131000\n",
      "lr 2.782559e-09 reg 4.700286e+04 train accuracy: 0.156408 val accuracy: 0.161000\n",
      "lr 2.782559e-09 reg 5.310529e+04 train accuracy: 0.128204 val accuracy: 0.124000\n",
      "lr 2.782559e-09 reg 6.000000e+04 train accuracy: 0.121265 val accuracy: 0.109000\n",
      "lr 4.641589e-09 reg 2.000000e+04 train accuracy: 0.122878 val accuracy: 0.116000\n",
      "lr 4.641589e-09 reg 2.259662e+04 train accuracy: 0.148469 val accuracy: 0.154000\n",
      "lr 4.641589e-09 reg 2.553036e+04 train accuracy: 0.149796 val accuracy: 0.145000\n",
      "lr 4.641589e-09 reg 2.884499e+04 train accuracy: 0.151265 val accuracy: 0.151000\n",
      "lr 4.641589e-09 reg 3.258996e+04 train accuracy: 0.161918 val accuracy: 0.166000\n",
      "lr 4.641589e-09 reg 3.682115e+04 train accuracy: 0.139020 val accuracy: 0.139000\n",
      "lr 4.641589e-09 reg 4.160168e+04 train accuracy: 0.136816 val accuracy: 0.125000\n",
      "lr 4.641589e-09 reg 4.700286e+04 train accuracy: 0.161878 val accuracy: 0.158000\n",
      "lr 4.641589e-09 reg 5.310529e+04 train accuracy: 0.144878 val accuracy: 0.136000\n",
      "lr 4.641589e-09 reg 6.000000e+04 train accuracy: 0.178857 val accuracy: 0.176000\n",
      "lr 7.742637e-09 reg 2.000000e+04 train accuracy: 0.186122 val accuracy: 0.186000\n",
      "lr 7.742637e-09 reg 2.259662e+04 train accuracy: 0.168612 val accuracy: 0.169000\n",
      "lr 7.742637e-09 reg 2.553036e+04 train accuracy: 0.178551 val accuracy: 0.186000\n",
      "lr 7.742637e-09 reg 2.884499e+04 train accuracy: 0.182122 val accuracy: 0.171000\n",
      "lr 7.742637e-09 reg 3.258996e+04 train accuracy: 0.198265 val accuracy: 0.215000\n",
      "lr 7.742637e-09 reg 3.682115e+04 train accuracy: 0.194531 val accuracy: 0.192000\n",
      "lr 7.742637e-09 reg 4.160168e+04 train accuracy: 0.179796 val accuracy: 0.186000\n",
      "lr 7.742637e-09 reg 4.700286e+04 train accuracy: 0.196347 val accuracy: 0.202000\n",
      "lr 7.742637e-09 reg 5.310529e+04 train accuracy: 0.223531 val accuracy: 0.235000\n",
      "lr 7.742637e-09 reg 6.000000e+04 train accuracy: 0.225184 val accuracy: 0.242000\n",
      "lr 1.291550e-08 reg 2.000000e+04 train accuracy: 0.221061 val accuracy: 0.228000\n",
      "lr 1.291550e-08 reg 2.259662e+04 train accuracy: 0.225347 val accuracy: 0.245000\n",
      "lr 1.291550e-08 reg 2.553036e+04 train accuracy: 0.226347 val accuracy: 0.244000\n",
      "lr 1.291550e-08 reg 2.884499e+04 train accuracy: 0.234286 val accuracy: 0.264000\n",
      "lr 1.291550e-08 reg 3.258996e+04 train accuracy: 0.247735 val accuracy: 0.264000\n",
      "lr 1.291550e-08 reg 3.682115e+04 train accuracy: 0.261143 val accuracy: 0.272000\n",
      "lr 1.291550e-08 reg 4.160168e+04 train accuracy: 0.278429 val accuracy: 0.285000\n",
      "lr 1.291550e-08 reg 4.700286e+04 train accuracy: 0.276612 val accuracy: 0.284000\n",
      "lr 1.291550e-08 reg 5.310529e+04 train accuracy: 0.286143 val accuracy: 0.294000\n",
      "lr 1.291550e-08 reg 6.000000e+04 train accuracy: 0.291939 val accuracy: 0.320000\n",
      "lr 2.154435e-08 reg 2.000000e+04 train accuracy: 0.272571 val accuracy: 0.294000\n",
      "lr 2.154435e-08 reg 2.259662e+04 train accuracy: 0.293571 val accuracy: 0.309000\n",
      "lr 2.154435e-08 reg 2.553036e+04 train accuracy: 0.292776 val accuracy: 0.315000\n",
      "lr 2.154435e-08 reg 2.884499e+04 train accuracy: 0.306224 val accuracy: 0.324000\n",
      "lr 2.154435e-08 reg 3.258996e+04 train accuracy: 0.310102 val accuracy: 0.312000\n",
      "lr 2.154435e-08 reg 3.682115e+04 train accuracy: 0.305265 val accuracy: 0.318000\n",
      "lr 2.154435e-08 reg 4.160168e+04 train accuracy: 0.308980 val accuracy: 0.325000\n",
      "lr 2.154435e-08 reg 4.700286e+04 train accuracy: 0.308224 val accuracy: 0.326000\n",
      "lr 2.154435e-08 reg 5.310529e+04 train accuracy: 0.301490 val accuracy: 0.319000\n",
      "lr 2.154435e-08 reg 6.000000e+04 train accuracy: 0.303204 val accuracy: 0.319000\n",
      "lr 3.593814e-08 reg 2.000000e+04 train accuracy: 0.323020 val accuracy: 0.335000\n",
      "lr 3.593814e-08 reg 2.259662e+04 train accuracy: 0.326143 val accuracy: 0.332000\n",
      "lr 3.593814e-08 reg 2.553036e+04 train accuracy: 0.328959 val accuracy: 0.348000\n",
      "lr 3.593814e-08 reg 2.884499e+04 train accuracy: 0.324224 val accuracy: 0.344000\n",
      "lr 3.593814e-08 reg 3.258996e+04 train accuracy: 0.319265 val accuracy: 0.332000\n",
      "lr 3.593814e-08 reg 3.682115e+04 train accuracy: 0.319347 val accuracy: 0.334000\n",
      "lr 3.593814e-08 reg 4.160168e+04 train accuracy: 0.310531 val accuracy: 0.327000\n",
      "lr 3.593814e-08 reg 4.700286e+04 train accuracy: 0.307939 val accuracy: 0.329000\n",
      "lr 3.593814e-08 reg 5.310529e+04 train accuracy: 0.306347 val accuracy: 0.321000\n",
      "lr 3.593814e-08 reg 6.000000e+04 train accuracy: 0.303673 val accuracy: 0.315000\n",
      "lr 5.994843e-08 reg 2.000000e+04 train accuracy: 0.338694 val accuracy: 0.357000\n",
      "lr 5.994843e-08 reg 2.259662e+04 train accuracy: 0.334082 val accuracy: 0.347000\n",
      "lr 5.994843e-08 reg 2.553036e+04 train accuracy: 0.327939 val accuracy: 0.341000\n",
      "lr 5.994843e-08 reg 2.884499e+04 train accuracy: 0.323939 val accuracy: 0.342000\n",
      "lr 5.994843e-08 reg 3.258996e+04 train accuracy: 0.320347 val accuracy: 0.336000\n",
      "lr 5.994843e-08 reg 3.682115e+04 train accuracy: 0.324878 val accuracy: 0.341000\n",
      "lr 5.994843e-08 reg 4.160168e+04 train accuracy: 0.317102 val accuracy: 0.332000\n",
      "lr 5.994843e-08 reg 4.700286e+04 train accuracy: 0.302347 val accuracy: 0.326000\n",
      "lr 5.994843e-08 reg 5.310529e+04 train accuracy: 0.305204 val accuracy: 0.322000\n",
      "lr 5.994843e-08 reg 6.000000e+04 train accuracy: 0.299918 val accuracy: 0.310000\n",
      "lr 1.000000e-07 reg 2.000000e+04 train accuracy: 0.336122 val accuracy: 0.356000\n",
      "lr 1.000000e-07 reg 2.259662e+04 train accuracy: 0.333898 val accuracy: 0.351000\n",
      "lr 1.000000e-07 reg 2.553036e+04 train accuracy: 0.330163 val accuracy: 0.344000\n",
      "lr 1.000000e-07 reg 2.884499e+04 train accuracy: 0.327061 val accuracy: 0.341000\n",
      "lr 1.000000e-07 reg 3.258996e+04 train accuracy: 0.319673 val accuracy: 0.329000\n",
      "lr 1.000000e-07 reg 3.682115e+04 train accuracy: 0.318429 val accuracy: 0.346000\n",
      "lr 1.000000e-07 reg 4.160168e+04 train accuracy: 0.305551 val accuracy: 0.327000\n",
      "lr 1.000000e-07 reg 4.700286e+04 train accuracy: 0.311673 val accuracy: 0.329000\n",
      "lr 1.000000e-07 reg 5.310529e+04 train accuracy: 0.310878 val accuracy: 0.329000\n",
      "lr 1.000000e-07 reg 6.000000e+04 train accuracy: 0.303286 val accuracy: 0.318000\n",
      "best validation accuracy achieved during cross-validation: 0.357000\n"
     ]
    }
   ],
   "source": [
    "# Use the validation set to tune hyperparameters (regularization strength and\n",
    "# learning rate). You should experiment with different ranges for the learning\n",
    "# rates and regularization strengths; if you are careful you should be able to\n",
    "# get a classification accuracy of over 0.35 on the validation set.\n",
    "\n",
    "from cs231n.classifiers import Softmax\n",
    "results = {}\n",
    "best_val = -1\n",
    "best_softmax = None\n",
    "\n",
    "################################################################################\n",
    "# TODO:                                                                        #\n",
    "# Use the validation set to set the learning rate and regularization strength. #\n",
    "# This should be identical to the validation that you did for the SVM; save    #\n",
    "# the best trained softmax classifer in best_softmax.                          #\n",
    "################################################################################\n",
    "\n",
    "# Provided as a reference. You may or may not want to change these hyperparameters\n",
    "learning_rates = np.geomspace(1e-7, 1e-9, 10)\n",
    "regularization_strengths = np.geomspace(2e4, 6e4, 10)\n",
    "\n",
    "# *****START OF YOUR CODE (DO NOT DELETE/MODIFY THIS LINE)*****\n",
    "\n",
    "import itertools\n",
    "for lr, reg in itertools.product(learning_rates, regularization_strengths):\n",
    "    sfm = Softmax()\n",
    "    sfm.train(\n",
    "        X_train,\n",
    "        y_train,\n",
    "        learning_rate=lr,\n",
    "        reg=reg,\n",
    "        num_iters=2000,\n",
    "        batch_size=256,\n",
    "        verbose=False,\n",
    "    )\n",
    "\n",
    "    y_pred_train = sfm.predict(X_train)\n",
    "    y_pred_val = sfm.predict(X_val)\n",
    "\n",
    "    train_acc = np.mean(y_pred_train == y_train)\n",
    "    val_acc = np.mean(y_pred_val == y_val)\n",
    "\n",
    "    if val_acc > best_val:\n",
    "        best_val = val_acc\n",
    "        best_svm = sfm\n",
    "\n",
    "    results[(lr, reg)] = train_acc, val_acc\n",
    "\n",
    "\n",
    "\n",
    "# *****END OF YOUR CODE (DO NOT DELETE/MODIFY THIS LINE)*****\n",
    "    \n",
    "# Print out results.\n",
    "for lr, reg in sorted(results):\n",
    "    train_accuracy, val_accuracy = results[(lr, reg)]\n",
    "    print('lr %e reg %e train accuracy: %f val accuracy: %f' % (\n",
    "                lr, reg, train_accuracy, val_accuracy))\n",
    "    \n",
    "print('best validation accuracy achieved during cross-validation: %f' % best_val)"
   ]
  },
  {
   "cell_type": "code",
   "execution_count": 298,
   "id": "55aa5a5d",
   "metadata": {},
   "outputs": [],
   "source": [
    "best_softmax = best_svm"
   ]
  },
  {
   "cell_type": "code",
   "execution_count": 299,
   "id": "f94a8f12",
   "metadata": {
    "test": "test"
   },
   "outputs": [
    {
     "name": "stdout",
     "output_type": "stream",
     "text": [
      "softmax on raw pixels final test set accuracy: 0.359000\n"
     ]
    }
   ],
   "source": [
    "# evaluate on test set\n",
    "# Evaluate the best softmax on test set\n",
    "y_test_pred = best_softmax.predict(X_test)\n",
    "test_accuracy = np.mean(y_test == y_test_pred)\n",
    "print('softmax on raw pixels final test set accuracy: %f' % (test_accuracy, ))"
   ]
  },
  {
   "cell_type": "markdown",
   "id": "7e2112ee",
   "metadata": {
    "tags": [
     "pdf-inline"
    ]
   },
   "source": [
    "**Inline Question 2** - *True or False*\n",
    "\n",
    "Suppose the overall training loss is defined as the sum of the per-datapoint loss over all training examples. It is possible to add a new datapoint to a training set that would leave the SVM loss unchanged, but this is not the case with the Softmax classifier loss.\n",
    "\n",
    "$\\color{blue}{\\textit Your Answer:}$\n",
    "\n",
    "\n",
    "$\\color{blue}{\\textit Your Explanation:}$\n",
    "\n"
   ]
  },
  {
   "cell_type": "code",
   "execution_count": 300,
   "id": "86d86120",
   "metadata": {},
   "outputs": [
    {
     "data": {
      "image/png": "[encoded data removed]",
      "text/plain": [
       "<Figure size 1000x800 with 10 Axes>"
      ]
     },
     "metadata": {},
     "output_type": "display_data"
    }
   ],
   "source": [
    "# Visualize the learned weights for each class\n",
    "w = best_softmax.W[:-1,:] # strip out the bias\n",
    "w = w.reshape(32, 32, 3, 10)\n",
    "\n",
    "w_min, w_max = np.min(w), np.max(w)\n",
    "\n",
    "classes = ['plane', 'car', 'bird', 'cat', 'deer', 'dog', 'frog', 'horse', 'ship', 'truck']\n",
    "for i in range(10):\n",
    "    plt.subplot(2, 5, i + 1)\n",
    "    \n",
    "    # Rescale the weights to be between 0 and 255\n",
    "    wimg = 255.0 * (w[:, :, :, i].squeeze() - w_min) / (w_max - w_min)\n",
    "    plt.imshow(wimg.astype('uint8'))\n",
    "    plt.axis('off')\n",
    "    plt.title(classes[i])"
   ]
  },
  {
   "cell_type": "code",
   "execution_count": null,
   "id": "24688f99",
   "metadata": {},
   "outputs": [],
   "source": []
  }
 ],
 "metadata": {
  "kernelspec": {
   "display_name": ".venv",
   "language": "python",
   "name": "python3"
  },
  "language_info": {
   "codemirror_mode": {
    "name": "ipython",
    "version": 3
   },
   "file_extension": ".py",
   "mimetype": "text/x-python",
   "name": "python",
   "nbconvert_exporter": "python",
   "pygments_lexer": "ipython3",
   "version": "3.13.2"
  }
 },
 "nbformat": 4,
 "nbformat_minor": 5
}
